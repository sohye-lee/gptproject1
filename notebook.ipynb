{
 "cells": [
  {
   "cell_type": "code",
   "execution_count": 12,
   "metadata": {},
   "outputs": [
    {
     "data": {
      "text/plain": [
       "\"Welcome to the Ultimate Golf Lounge Experience!\\n\\nAt [Golf Lounge Name], we are passionate about creating a haven for golf enthusiasts like you. Whether you're a seasoned golfer or just starting out, our state-of-the-art facility is designed to provide you with an unparalleled golfing experience.\\n\\nStep into our luxurious lounge and be greeted by a warm and inviting atmosphere. Our modern and stylish decor sets the perfect backdrop for relaxation and enjoyment. With comfortable seating areas, a fully stocked bar, and high-definition TVs broadcasting live golf tournaments, you'll feel right at home.\\n\\nBut what truly sets us apart is our cutting-edge golf simulators. Immerse yourself in a virtual world where you can play on world-renowned courses, challenge your friends to a friendly competition, or even receive professional coaching from our experienced instructors. Our simulators offer realistic graphics, precise ball tracking, and accurate swing analysis, ensuring that every swing feels like the real thing.\\n\\nLooking to improve your game? Our dedicated practice area is equipped with the latest technology to help you refine your skills. From swing analysis to club fitting, our knowledgeable staff is here to assist you every step of the way. Take advantage of our personalized coaching sessions or join one of our group clinics to enhance your golfing abilities.\\n\\nPlanning a special event? Look no further! Our golf lounge is the perfect venue for corporate outings, birthday parties, or bachelor/bachelorette celebrations. With customizable packages and a dedicated event coordinator, we'll ensure that your event is a memorable one.\\n\\nAt [Golf Lounge Name], we believe that golf is more than just a sport; it's a lifestyle. Join our community of golf enthusiasts and experience the thrill of the game like never before. Whether you're here to relax, practice, or socialize, our golf lounge is the ultimate destination for all your golfing needs.\\n\\nVisit us today and discover why we are the premier golf lounge in town. Your perfect swing awaits!\""
      ]
     },
     "execution_count": 12,
     "metadata": {},
     "output_type": "execute_result"
    }
   ],
   "source": [
    "from langchain.chat_models import ChatOpenAI\n",
    "from langchain.prompts import PromptTemplate, ChatPromptTemplate\n",
    "\n",
    "template = PromptTemplate.from_template(\n",
    "    \"Hi, what would be the best copy for a {business} website?\"\n",
    ")\n",
    "prompt = template.format(business=\"golf lounge\")\n",
    "\n",
    "chat = ChatOpenAI(temperature=0.1)\n",
    "\n",
    "chat.predict(prompt)"
   ]
  },
  {
   "cell_type": "code",
   "execution_count": 13,
   "metadata": {},
   "outputs": [
    {
     "ename": "AttributeError",
     "evalue": "'PromptTemplate' object has no attribute 'format_messages'",
     "output_type": "error",
     "traceback": [
      "\u001b[0;31m---------------------------------------------------------------------------\u001b[0m",
      "\u001b[0;31mAttributeError\u001b[0m                            Traceback (most recent call last)",
      "\u001b[1;32m/Users/sohye/Documents/GitHub/gptproject1/notebook.ipynb Cell 2\u001b[0m line \u001b[0;36m9\n\u001b[1;32m      <a href='vscode-notebook-cell:/Users/sohye/Documents/GitHub/gptproject1/notebook.ipynb#W1sZmlsZQ%3D%3D?line=0'>1</a>\u001b[0m \u001b[39mfrom\u001b[39;00m \u001b[39mlangchain\u001b[39;00m\u001b[39m.\u001b[39;00m\u001b[39mschema\u001b[39;00m \u001b[39mimport\u001b[39;00m SystemMessage, HumanMessage, AIMessage\n\u001b[1;32m      <a href='vscode-notebook-cell:/Users/sohye/Documents/GitHub/gptproject1/notebook.ipynb#W1sZmlsZQ%3D%3D?line=2'>3</a>\u001b[0m messages \u001b[39m=\u001b[39m ChatPromptTemplate\u001b[39m.\u001b[39mfrom_messages([\n\u001b[1;32m      <a href='vscode-notebook-cell:/Users/sohye/Documents/GitHub/gptproject1/notebook.ipynb#W1sZmlsZQ%3D%3D?line=3'>4</a>\u001b[0m     (\u001b[39m\"\u001b[39m\u001b[39msystem\u001b[39m\u001b[39m\"\u001b[39m, \u001b[39m\"\u001b[39m\u001b[39mYou are a copywriter for digital products. You only reply in \u001b[39m\u001b[39m{language}\u001b[39;00m\u001b[39m.\u001b[39m\u001b[39m\"\u001b[39m),\n\u001b[1;32m      <a href='vscode-notebook-cell:/Users/sohye/Documents/GitHub/gptproject1/notebook.ipynb#W1sZmlsZQ%3D%3D?line=4'>5</a>\u001b[0m     (\u001b[39m\"\u001b[39m\u001b[39mai\u001b[39m\u001b[39m\"\u001b[39m, \u001b[39m\"\u001b[39m\u001b[39mHi, I am your chatbot.\u001b[39m\u001b[39m\"\u001b[39m),\n\u001b[1;32m      <a href='vscode-notebook-cell:/Users/sohye/Documents/GitHub/gptproject1/notebook.ipynb#W1sZmlsZQ%3D%3D?line=5'>6</a>\u001b[0m     (\u001b[39m\"\u001b[39m\u001b[39mhuman\u001b[39m\u001b[39m\"\u001b[39m, \u001b[39m\"\u001b[39m\u001b[39mHi, what would be the best copy for a \u001b[39m\u001b[39m{business}\u001b[39;00m\u001b[39m website?\u001b[39m\u001b[39m\"\u001b[39m)])\n\u001b[0;32m----> <a href='vscode-notebook-cell:/Users/sohye/Documents/GitHub/gptproject1/notebook.ipynb#W1sZmlsZQ%3D%3D?line=8'>9</a>\u001b[0m prompt \u001b[39m=\u001b[39m template\u001b[39m.\u001b[39;49mformat_messages(\n\u001b[1;32m     <a href='vscode-notebook-cell:/Users/sohye/Documents/GitHub/gptproject1/notebook.ipynb#W1sZmlsZQ%3D%3D?line=9'>10</a>\u001b[0m     language\u001b[39m=\u001b[39m\u001b[39m\"\u001b[39m\u001b[39mSpanish\u001b[39m\u001b[39m\"\u001b[39m,\n\u001b[1;32m     <a href='vscode-notebook-cell:/Users/sohye/Documents/GitHub/gptproject1/notebook.ipynb#W1sZmlsZQ%3D%3D?line=10'>11</a>\u001b[0m     business\u001b[39m=\u001b[39m\u001b[39m\"\u001b[39m\u001b[39mCoffe shop\u001b[39m\u001b[39m\"\u001b[39m\n\u001b[1;32m     <a href='vscode-notebook-cell:/Users/sohye/Documents/GitHub/gptproject1/notebook.ipynb#W1sZmlsZQ%3D%3D?line=11'>12</a>\u001b[0m )\n\u001b[1;32m     <a href='vscode-notebook-cell:/Users/sohye/Documents/GitHub/gptproject1/notebook.ipynb#W1sZmlsZQ%3D%3D?line=13'>14</a>\u001b[0m chat\u001b[39m.\u001b[39mpredict_messages(prompt)\n",
      "\u001b[0;31mAttributeError\u001b[0m: 'PromptTemplate' object has no attribute 'format_messages'"
     ]
    }
   ],
   "source": [
    "from langchain.schema import SystemMessage, HumanMessage, AIMessage\n",
    "\n",
    "template = ChatPromptTemplate.from_messages([\n",
    "    (\"system\", \"You are a copywriter for digital products. You only reply in {language}.\"),\n",
    "    (\"ai\", \"Hi, I am your chatbot.\"),\n",
    "    (\"human\", \"Hi, what would be the best copy for a {business} website?\")])\n",
    "\n",
    "\n",
    "prompt = template.format_messages(\n",
    "    language=\"Spanish\",\n",
    "    business=\"Coffe shop\"\n",
    ")\n",
    "\n",
    "chat.predict_messages(prompt)"
   ]
  }
 ],
 "metadata": {
  "kernelspec": {
   "display_name": "Python 3",
   "language": "python",
   "name": "python3"
  },
  "language_info": {
   "codemirror_mode": {
    "name": "ipython",
    "version": 3
   },
   "file_extension": ".py",
   "mimetype": "text/x-python",
   "name": "python",
   "nbconvert_exporter": "python",
   "pygments_lexer": "ipython3",
   "version": "3.9.6"
  }
 },
 "nbformat": 4,
 "nbformat_minor": 2
}
