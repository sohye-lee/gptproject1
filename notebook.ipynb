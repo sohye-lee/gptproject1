{
 "cells": [
  {
   "cell_type": "code",
   "execution_count": 12,
   "metadata": {},
   "outputs": [
    {
     "data": {
      "text/plain": [
       "\"Welcome to the Ultimate Golf Lounge Experience!\\n\\nAt [Golf Lounge Name], we are passionate about creating a haven for golf enthusiasts like you. Whether you're a seasoned golfer or just starting out, our state-of-the-art facility is designed to provide you with an unparalleled golfing experience.\\n\\nStep into our luxurious lounge and be greeted by a warm and inviting atmosphere. Our modern and stylish decor sets the perfect backdrop for relaxation and enjoyment. With comfortable seating areas, a fully stocked bar, and high-definition TVs broadcasting live golf tournaments, you'll feel right at home.\\n\\nBut what truly sets us apart is our cutting-edge golf simulators. Immerse yourself in a virtual world where you can play on world-renowned courses, challenge your friends to a friendly competition, or even receive professional coaching from our experienced instructors. Our simulators offer realistic graphics, precise ball tracking, and accurate swing analysis, ensuring that every swing feels like the real thing.\\n\\nLooking to improve your game? Our dedicated practice area is equipped with the latest technology to help you refine your skills. From swing analysis to club fitting, our knowledgeable staff is here to assist you every step of the way. Take advantage of our personalized coaching sessions or join one of our group clinics to enhance your golfing abilities.\\n\\nPlanning a special event? Look no further! Our golf lounge is the perfect venue for corporate outings, birthday parties, or bachelor/bachelorette celebrations. With customizable packages and a dedicated event coordinator, we'll ensure that your event is a memorable one.\\n\\nAt [Golf Lounge Name], we believe that golf is more than just a sport; it's a lifestyle. Join our community of golf enthusiasts and experience the thrill of the game like never before. Whether you're here to relax, practice, or socialize, our golf lounge is the ultimate destination for all your golfing needs.\\n\\nVisit us today and discover why we are the premier golf lounge in town. Your perfect swing awaits!\""
      ]
     },
     "execution_count": 12,
     "metadata": {},
     "output_type": "execute_result"
    }
   ],
   "source": [
    "from langchain.chat_models import ChatOpenAI\n",
    "from langchain.prompts import PromptTemplate, ChatPromptTemplate\n",
    "\n",
    "template = PromptTemplate.from_template(\n",
    "    \"Hi, what would be the best copy for a {business} website?\"\n",
    ")\n",
    "prompt = template.format(business=\"golf lounge\")\n",
    "\n",
    "chat = ChatOpenAI(temperature=0.1)\n",
    "\n",
    "chat.predict(prompt)"
   ]
  },
  {
   "cell_type": "code",
   "execution_count": 14,
   "metadata": {},
   "outputs": [
    {
     "data": {
      "text/plain": [
       "AIMessage(content='¡Bienvenidos al mejor lugar para disfrutar del café! En nuestra cafetería, encontrarás el equilibrio perfecto entre sabor, calidad y ambiente acogedor. Nuestros expertos baristas están listos para deleitarte con una amplia variedad de cafés de origen, cuidadosamente seleccionados y preparados con pasión. Desde un aromático espresso hasta un suave cappuccino, cada taza es una experiencia única que despertará tus sentidos. Además, ofrecemos deliciosos postres y bocadillos que complementarán tu experiencia cafetera. Ven y descubre por qué somos el destino favorito de los amantes del café. ¡Te esperamos con una taza caliente y una sonrisa!')"
      ]
     },
     "execution_count": 14,
     "metadata": {},
     "output_type": "execute_result"
    }
   ],
   "source": [
    "from langchain.schema import SystemMessage, HumanMessage, AIMessage\n",
    "\n",
    "template = ChatPromptTemplate.from_messages([\n",
    "    (\"system\", \"You are a copywriter for digital products. You only reply in {language}.\"),\n",
    "    (\"ai\", \"Hi, I am your chatbot.\"),\n",
    "    (\"human\", \"Hi, what would be the best copy for a {business} website?\")])\n",
    "\n",
    "\n",
    "prompt = template.format_messages(\n",
    "    language=\"Spanish\",\n",
    "    business=\"Coffe shop\"\n",
    ")\n",
    "\n",
    "chat.predict_messages(prompt)"
   ]
  }
 ],
 "metadata": {
  "kernelspec": {
   "display_name": "Python 3",
   "language": "python",
   "name": "python3"
  },
  "language_info": {
   "codemirror_mode": {
    "name": "ipython",
    "version": 3
   },
   "file_extension": ".py",
   "mimetype": "text/x-python",
   "name": "python",
   "nbconvert_exporter": "python",
   "pygments_lexer": "ipython3",
   "version": "3.9.6"
  }
 },
 "nbformat": 4,
 "nbformat_minor": 2
}
