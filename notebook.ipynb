{
 "cells": [
  {
   "cell_type": "code",
   "execution_count": 1,
   "metadata": {},
   "outputs": [
    {
     "data": {
      "text/plain": [
       "\"Welcome to the Ultimate Golf Lounge Experience!\\n\\nAt [Golf Lounge Name], we are passionate about creating a haven for golf enthusiasts like you. Step into our world-class facility and indulge in the perfect blend of golf, relaxation, and entertainment. Whether you're a seasoned golfer or just starting out, our golf lounge is designed to cater to all skill levels and provide an unforgettable experience.\\n\\nUnleash your swing on our state-of-the-art simulators, which offer a realistic and immersive golfing experience. Play on world-renowned courses, challenge your friends to friendly competitions, or even receive professional coaching from our expert instructors. Our cutting-edge technology ensures that every swing is accurately measured, allowing you to fine-tune your skills and track your progress.\\n\\nBut it's not just about the game. Our luxurious lounge area provides a comfortable and stylish setting for you to unwind and socialize. Relax in plush seating, enjoy a refreshing drink from our fully stocked bar, and savor delicious bites from our gourmet menu. Whether you're celebrating a special occasion or simply looking for a place to unwind after a long day, our golf lounge offers the perfect ambiance for every occasion.\\n\\nLooking to take your golf game to the next level? Our pro shop is stocked with the latest equipment, apparel, and accessories from top golf brands. Our knowledgeable staff is always on hand to assist you in finding the perfect gear to enhance your performance and style.\\n\\nAt [Golf Lounge Name], we believe that golf is more than just a sport—it's a lifestyle. Join our vibrant community of golf enthusiasts and experience the thrill of the game like never before. Whether you're seeking a solo golfing session, a group outing, or even hosting a corporate event, our dedicated team is here to ensure your every need is met.\\n\\nDon't settle for ordinary. Elevate your golfing experience at [Golf Lounge Name]. Book your tee time today and discover the ultimate golf lounge destination.\""
      ]
     },
     "execution_count": 1,
     "metadata": {},
     "output_type": "execute_result"
    }
   ],
   "source": [
    "from langchain.chat_models import ChatOpenAI\n",
    "from langchain.prompts import PromptTemplate, ChatPromptTemplate\n",
    "\n",
    "template = PromptTemplate.from_template(\n",
    "    \"Hi, what would be the best copy for a {business} website?\"\n",
    ")\n",
    "prompt = template.format(business=\"golf lounge\")\n",
    "\n",
    "chat = ChatOpenAI(temperature=0.1)\n",
    "\n",
    "chat.predict(prompt)"
   ]
  },
  {
   "cell_type": "code",
   "execution_count": 2,
   "metadata": {},
   "outputs": [
    {
     "data": {
      "text/plain": [
       "AIMessage(content='¡Bienvenidos al mejor lugar para disfrutar del café! En nuestra cafetería, encontrarás el equilibrio perfecto entre sabor, calidad y ambiente acogedor. Nuestros expertos baristas están listos para deleitarte con una amplia variedad de cafés de origen, cuidadosamente seleccionados y preparados con pasión. Además, ofrecemos deliciosos postres y bocadillos que complementarán tu experiencia. Ven y descubre por qué somos el destino favorito de los amantes del café. ¡Te esperamos con una taza de café perfecta!')"
      ]
     },
     "execution_count": 2,
     "metadata": {},
     "output_type": "execute_result"
    }
   ],
   "source": [
    "from langchain.schema import SystemMessage, HumanMessage, AIMessage\n",
    "\n",
    "template = ChatPromptTemplate.from_messages([\n",
    "    (\"system\", \"You are a copywriter for digital products. You only reply in {language}.\"),\n",
    "    (\"ai\", \"Hi, I am your chatbot.\"),\n",
    "    (\"human\", \"Hi, what would be the best copy for a {business} website?\")])\n",
    "\n",
    "\n",
    "prompt = template.format_messages(\n",
    "    language=\"Spanish\",\n",
    "    business=\"Coffe shop\"\n",
    ")\n",
    "\n",
    "chat.predict_messages(prompt)"
   ]
  },
  {
   "cell_type": "code",
   "execution_count": 5,
   "metadata": {},
   "outputs": [
    {
     "data": {
      "text/plain": [
       "['Hello', 'How', 'Are', 'You', '?']"
      ]
     },
     "execution_count": 5,
     "metadata": {},
     "output_type": "execute_result"
    }
   ],
   "source": [
    "from langchain.schema import BaseOutputParser\n",
    "\n",
    "class CommaOutputParser(BaseOutputParser):\n",
    "    def parse(self, text):\n",
    "        items = text.split(',')\n",
    "        return list(map(str.strip, items))\n",
    "\n",
    "p = CommaOutputParser()\n",
    "p.parse(\"Hello, How, Are,You,?\")"
   ]
  },
  {
   "cell_type": "code",
   "execution_count": 14,
   "metadata": {},
   "outputs": [
    {
     "name": "stdout",
     "output_type": "stream",
     "text": [
      "['Mercury', 'Venus', 'Earth', 'Mars', 'Jupiter', 'Saturn', 'Uranus', 'Neptune']\n"
     ]
    }
   ],
   "source": [
    "template = ChatPromptTemplate.from_messages([\n",
    "    (\"system\", \"You are a list generating machine. You should answer only in list of maximum {max}, separated with a comma. Do NOT reply with anything else.\"),\n",
    "    (\"human\", \"{question}\")\n",
    "])\n",
    "\n",
    "prompt = template.format_messages(\n",
    "    max=10,\n",
    "    question=\"What are the names of planets?\"\n",
    ")\n",
    "\n",
    "message = chat.predict_messages(prompt).content\n",
    "\n",
    "p = CommaOutputParser()\n",
    "planets = p.parse(message)\n",
    "print(planets)\n",
    "\n",
    "# planets"
   ]
  },
  {
   "cell_type": "code",
   "execution_count": 19,
   "metadata": {},
   "outputs": [
    {
     "data": {
      "text/plain": [
       "['Pikachu',\n",
       " 'Bulbasaur',\n",
       " 'Charizard',\n",
       " 'Squirtle',\n",
       " 'Jigglypuff',\n",
       " 'Eevee',\n",
       " 'Snorlax',\n",
       " 'Mewtwo',\n",
       " 'Gyarados',\n",
       " 'Dragonite',\n",
       " 'Blastoise',\n",
       " 'Venusaur',\n",
       " 'Lapras',\n",
       " 'Arcanine',\n",
       " 'Gengar',\n",
       " 'Machamp',\n",
       " 'Alakazam',\n",
       " 'Mew',\n",
       " 'Zapdos',\n",
       " 'Articuno']"
      ]
     },
     "execution_count": 19,
     "metadata": {},
     "output_type": "execute_result"
    }
   ],
   "source": [
    "chain = template | chat | CommaOutputParser()\n",
    "chain.invoke({\n",
    "    \"max\": 20,\n",
    "    \"question\": \"What are the names of Pokemons?\"\n",
    "})"
   ]
  },
  {
   "cell_type": "code",
   "execution_count": null,
   "metadata": {},
   "outputs": [],
   "source": [
    "chef_template = ChatPromptTemplate.from_messages([\n",
    "    (\"system\", \"You are a chef. You create recipes that are easy to follow for any type of cuisine with ingredients easy to find.\"),\n",
    "    (\"human\", \"I want to cook {cuisine} food. Give me a simple recipe and ingredients.\")\n",
    "])"
   ]
  }
 ],
 "metadata": {
  "kernelspec": {
   "display_name": "Python 3",
   "language": "python",
   "name": "python3"
  },
  "language_info": {
   "codemirror_mode": {
    "name": "ipython",
    "version": 3
   },
   "file_extension": ".py",
   "mimetype": "text/x-python",
   "name": "python",
   "nbconvert_exporter": "python",
   "pygments_lexer": "ipython3",
   "version": "3.9.6"
  }
 },
 "nbformat": 4,
 "nbformat_minor": 2
}
