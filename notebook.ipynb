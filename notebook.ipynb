{
 "cells": [
  {
   "cell_type": "code",
   "execution_count": 1,
   "metadata": {},
   "outputs": [
    {
     "data": {
      "text/plain": [
       "\"Welcome to the Ultimate Golf Lounge Experience!\\n\\nAt [Golf Lounge Name], we are passionate about creating a haven for golf enthusiasts like you. Step into our world-class facility and indulge in the perfect blend of golf, relaxation, and entertainment. Whether you're a seasoned golfer or just starting out, our golf lounge offers an unparalleled experience that will leave you wanting more.\\n\\nUnwind in our luxurious lounge area, designed to provide a comfortable and stylish atmosphere. Catch up with friends, fellow golfers, or business associates while enjoying a refreshing drink from our fully stocked bar. Our friendly and knowledgeable staff is always on hand to ensure your every need is met, making your visit truly unforgettable.\\n\\nTake your game to the next level with our cutting-edge golf simulators. Immerse yourself in a virtual golfing paradise, where you can play on world-renowned courses without leaving the comfort of our lounge. Our state-of-the-art technology accurately replicates the feel and challenge of real golf, allowing you to refine your skills or simply have a fun-filled round with friends.\\n\\nLooking to improve your swing? Our experienced golf instructors are here to help. Whether you're a beginner seeking guidance or an experienced player looking to fine-tune your technique, our personalized lessons will elevate your game to new heights. With their expertise and passion for the sport, our instructors will provide you with invaluable tips and tricks to help you reach your full potential.\\n\\nIn addition to our golfing amenities, we offer a range of entertainment options to keep you engaged and entertained. Challenge your friends to a friendly game of billiards, enjoy live sports on our big screens, or simply relax and soak in the vibrant atmosphere of our lounge.\\n\\nAt [Golf Lounge Name], we believe that golf is more than just a game – it's a lifestyle. Join us and experience the perfect fusion of golf, relaxation, and camaraderie. Book your visit today and discover why we are the premier golf lounge destination for golf enthusiasts like you.\""
      ]
     },
     "execution_count": 1,
     "metadata": {},
     "output_type": "execute_result"
    }
   ],
   "source": [
    "from langchain.chat_models import ChatOpenAI\n",
    "from langchain.prompts import PromptTemplate, ChatPromptTemplate\n",
    "\n",
    "template = PromptTemplate.from_template(\n",
    "    \"Hi, what would be the best copy for a {business} website?\"\n",
    ")\n",
    "prompt = template.format(business=\"golf lounge\")\n",
    "\n",
    "chat = ChatOpenAI(temperature=0.1)\n",
    "\n",
    "chat.predict(prompt)"
   ]
  },
  {
   "cell_type": "code",
   "execution_count": 2,
   "metadata": {},
   "outputs": [
    {
     "data": {
      "text/plain": [
       "AIMessage(content='¡Bienvenidos al mejor lugar para disfrutar del café! En nuestra cafetería, encontrarás el equilibrio perfecto entre sabor, calidad y ambiente acogedor. Nuestros expertos baristas están listos para deleitarte con una amplia variedad de cafés de origen, cuidadosamente seleccionados y preparados con pasión. Además, ofrecemos deliciosos postres y bocadillos que complementarán tu experiencia. Ven y descubre por qué somos el destino favorito de los amantes del café. ¡Te esperamos con una taza de café perfecta!')"
      ]
     },
     "execution_count": 2,
     "metadata": {},
     "output_type": "execute_result"
    }
   ],
   "source": [
    "from langchain.schema import SystemMessage, HumanMessage, AIMessage\n",
    "\n",
    "template = ChatPromptTemplate.from_messages([\n",
    "    (\"system\", \"You are a copywriter for digital products. You only reply in {language}.\"),\n",
    "    (\"ai\", \"Hi, I am your chatbot.\"),\n",
    "    (\"human\", \"Hi, what would be the best copy for a {business} website?\")])\n",
    "\n",
    "\n",
    "prompt = template.format_messages(\n",
    "    language=\"Spanish\",\n",
    "    business=\"Coffe shop\"\n",
    ")\n",
    "\n",
    "chat.predict_messages(prompt)"
   ]
  },
  {
   "cell_type": "code",
   "execution_count": 5,
   "metadata": {},
   "outputs": [
    {
     "data": {
      "text/plain": [
       "['Hello', 'How', 'Are', 'You', '?']"
      ]
     },
     "execution_count": 5,
     "metadata": {},
     "output_type": "execute_result"
    }
   ],
   "source": [
    "from langchain.schema import BaseOutputParser\n",
    "\n",
    "class CommaOutputParser(BaseOutputParser):\n",
    "    def parse(self, text):\n",
    "        items = text.split(',')\n",
    "        return list(map(str.strip, items))\n",
    "\n",
    "p = CommaOutputParser()\n",
    "p.parse(\"Hello, How, Are,You,?\")"
   ]
  },
  {
   "cell_type": "code",
   "execution_count": 14,
   "metadata": {},
   "outputs": [
    {
     "name": "stdout",
     "output_type": "stream",
     "text": [
      "['Mercury', 'Venus', 'Earth', 'Mars', 'Jupiter', 'Saturn', 'Uranus', 'Neptune']\n"
     ]
    }
   ],
   "source": [
    "template = ChatPromptTemplate.from_messages([\n",
    "    (\"system\", \"You are a list generating machine. You should answer only in list of maximum {max}, separated with a comma. Do NOT reply with anything else.\"),\n",
    "    (\"human\", \"{question}\")\n",
    "])\n",
    "\n",
    "prompt = template.format_messages(\n",
    "    max=10,\n",
    "    question=\"What are the names of planets?\"\n",
    ")\n",
    "\n",
    "message = chat.predict_messages(prompt).content\n",
    "\n",
    "p = CommaOutputParser()\n",
    "planets = p.parse(message)\n",
    "print(planets)\n",
    "\n",
    "# planets"
   ]
  },
  {
   "cell_type": "code",
   "execution_count": 19,
   "metadata": {},
   "outputs": [
    {
     "data": {
      "text/plain": [
       "['Pikachu',\n",
       " 'Bulbasaur',\n",
       " 'Charizard',\n",
       " 'Squirtle',\n",
       " 'Jigglypuff',\n",
       " 'Eevee',\n",
       " 'Snorlax',\n",
       " 'Mewtwo',\n",
       " 'Gyarados',\n",
       " 'Dragonite',\n",
       " 'Blastoise',\n",
       " 'Venusaur',\n",
       " 'Lapras',\n",
       " 'Arcanine',\n",
       " 'Gengar',\n",
       " 'Machamp',\n",
       " 'Alakazam',\n",
       " 'Mew',\n",
       " 'Zapdos',\n",
       " 'Articuno']"
      ]
     },
     "execution_count": 19,
     "metadata": {},
     "output_type": "execute_result"
    }
   ],
   "source": [
    "chain = template | chat | CommaOutputParser()\n",
    "chain.invoke({\n",
    "    \"max\": 20,\n",
    "    \"question\": \"What are the names of Pokemons?\"\n",
    "})"
   ]
  },
  {
   "cell_type": "code",
   "execution_count": 4,
   "metadata": {},
   "outputs": [
    {
     "name": "stdout",
     "output_type": "stream",
     "text": [
      "Sure! How about making a delicious and easy Indian dish called Chicken Tikka Masala? Here's a simple recipe and the ingredients you'll need:\n",
      "\n",
      "Ingredients:\n",
      "- 500g boneless chicken, cut into bite-sized pieces\n",
      "- 1 cup plain yogurt\n",
      "- 2 tablespoons lemon juice\n",
      "- 2 tablespoons vegetable oil\n",
      "- 1 large onion, finely chopped\n",
      "- 3 cloves of garlic, minced\n",
      "- 1 tablespoon ginger, grated\n",
      "- 2 teaspoons ground cumin\n",
      "- 2 teaspoons ground coriander\n",
      "- 1 teaspoon turmeric powder\n",
      "- 1 teaspoon paprika\n",
      "- 1 teaspoon garam masala\n",
      "- 1 cup tomato puree\n",
      "- 1 cup heavy cream\n",
      "- Salt, to taste\n",
      "- Fresh cilantro, chopped (for garnish)\n",
      "\n",
      "Instructions:\n",
      "1. In a bowl, combine the yogurt, lemon juice, 1 teaspoon of ground cumin, 1 teaspoon of ground coriander, turmeric powder, paprika, and salt. Mix well.\n",
      "2. Add the chicken pieces to the marinade and coat them evenly. Let it marinate for at least 30 minutes, or refrigerate overnight for better flavor.\n",
      "3. Heat the vegetable oil in a large pan over medium heat. Add the chopped onion and sauté until golden brown.\n",
      "4. Add the minced garlic and grated ginger to the pan and cook for another minute.\n",
      "5. Add the remaining ground cumin, ground coriander, and garam masala to the pan. Stir well to combine the spices with the onion mixture.\n",
      "6. Add the tomato puree to the pan and cook for a few minutes until the oil starts to separate from the mixture.\n",
      "7. Add the marinated chicken pieces to the pan, along with any remaining marinade. Stir well to coat the chicken with the sauce.\n",
      "8. Reduce the heat to low, cover the pan, and let it simmer for about 15-20 minutes, or until the chicken is cooked through and tender.\n",
      "9. Stir in the heavy cream and simmer for an additional 5 minutes.\n",
      "10. Taste and adjust the seasoning with salt if needed.\n",
      "11. Garnish with freshly chopped cilantro before serving.\n",
      "12. Serve the Chicken Tikka Masala with steamed rice or naan bread.\n",
      "\n",
      "Enjoy your homemade Chicken Tikka Masala!Sure! Here's a vegetarian alternative recipe for Chicken Tikka Masala:\n",
      "\n",
      "Ingredients:\n",
      "- 500g firm tofu, cut into bite-sized pieces\n",
      "- 1 cup plain yogurt (you can use dairy-free yogurt if desired)\n",
      "- 2 tablespoons lemon juice\n",
      "- 2 tablespoons vegetable oil\n",
      "- 1 large onion, finely chopped\n",
      "- 3 cloves of garlic, minced\n",
      "- 1 tablespoon ginger, grated\n",
      "- 2 teaspoons ground cumin\n",
      "- 2 teaspoons ground coriander\n",
      "- 1 teaspoon turmeric powder\n",
      "- 1 teaspoon paprika\n",
      "- 1 teaspoon garam masala\n",
      "- 1 cup tomato puree\n",
      "- 1 cup coconut milk (or heavy cream alternative)\n",
      "- Salt, to taste\n",
      "- Fresh cilantro, chopped (for garnish)\n",
      "\n",
      "Instructions:\n",
      "1. In a bowl, combine the yogurt, lemon juice, 1 teaspoon of ground cumin, 1 teaspoon of ground coriander, turmeric powder, paprika, and salt. Mix well.\n",
      "2. Add the tofu pieces to the marinade and coat them evenly. Let it marinate for at least 30 minutes, or refrigerate overnight for better flavor.\n",
      "3. Heat the vegetable oil in a large pan over medium heat. Add the chopped onion and sauté until golden brown.\n",
      "4. Add the minced garlic and grated ginger to the pan and cook for another minute.\n",
      "5. Add the remaining ground cumin, ground coriander, and garam masala to the pan. Stir well to combine the spices with the onion mixture.\n",
      "6. Add the tomato puree to the pan and cook for a few minutes until the oil starts to separate from the mixture.\n",
      "7. Add the marinated tofu pieces to the pan, along with any remaining marinade. Stir well to coat the tofu with the sauce.\n",
      "8. Reduce the heat to low, cover the pan, and let it simmer for about 15-20 minutes, or until the tofu is heated through and tender.\n",
      "9. Stir in the coconut milk (or heavy cream alternative) and simmer for an additional 5 minutes.\n",
      "10. Taste and adjust the seasoning with salt if needed.\n",
      "11. Garnish with freshly chopped cilantro before serving.\n",
      "12. Serve the Vegetarian Tikka Masala with steamed rice or naan bread.\n",
      "\n",
      "Enjoy your homemade Vegetarian Tikka Masala!"
     ]
    },
    {
     "data": {
      "text/plain": [
       "AIMessageChunk(content=\"Sure! Here's a vegetarian alternative recipe for Chicken Tikka Masala:\\n\\nIngredients:\\n- 500g firm tofu, cut into bite-sized pieces\\n- 1 cup plain yogurt (you can use dairy-free yogurt if desired)\\n- 2 tablespoons lemon juice\\n- 2 tablespoons vegetable oil\\n- 1 large onion, finely chopped\\n- 3 cloves of garlic, minced\\n- 1 tablespoon ginger, grated\\n- 2 teaspoons ground cumin\\n- 2 teaspoons ground coriander\\n- 1 teaspoon turmeric powder\\n- 1 teaspoon paprika\\n- 1 teaspoon garam masala\\n- 1 cup tomato puree\\n- 1 cup coconut milk (or heavy cream alternative)\\n- Salt, to taste\\n- Fresh cilantro, chopped (for garnish)\\n\\nInstructions:\\n1. In a bowl, combine the yogurt, lemon juice, 1 teaspoon of ground cumin, 1 teaspoon of ground coriander, turmeric powder, paprika, and salt. Mix well.\\n2. Add the tofu pieces to the marinade and coat them evenly. Let it marinate for at least 30 minutes, or refrigerate overnight for better flavor.\\n3. Heat the vegetable oil in a large pan over medium heat. Add the chopped onion and sauté until golden brown.\\n4. Add the minced garlic and grated ginger to the pan and cook for another minute.\\n5. Add the remaining ground cumin, ground coriander, and garam masala to the pan. Stir well to combine the spices with the onion mixture.\\n6. Add the tomato puree to the pan and cook for a few minutes until the oil starts to separate from the mixture.\\n7. Add the marinated tofu pieces to the pan, along with any remaining marinade. Stir well to coat the tofu with the sauce.\\n8. Reduce the heat to low, cover the pan, and let it simmer for about 15-20 minutes, or until the tofu is heated through and tender.\\n9. Stir in the coconut milk (or heavy cream alternative) and simmer for an additional 5 minutes.\\n10. Taste and adjust the seasoning with salt if needed.\\n11. Garnish with freshly chopped cilantro before serving.\\n12. Serve the Vegetarian Tikka Masala with steamed rice or naan bread.\\n\\nEnjoy your homemade Vegetarian Tikka Masala!\")"
      ]
     },
     "execution_count": 4,
     "metadata": {},
     "output_type": "execute_result"
    }
   ],
   "source": [
    "from langchain.chat_models import ChatOpenAI\n",
    "from langchain.prompts import ChatPromptTemplate\n",
    "from langchain.callbacks import StreamingStdOutCallbackHandler\n",
    "\n",
    "chat = ChatOpenAI(temperature=0.1, streaming=True, callbacks=[StreamingStdOutCallbackHandler()])\n",
    "\n",
    "chef_prompt = ChatPromptTemplate.from_messages([\n",
    "    (\"system\", \"You are a chef. You create recipes that are easy to follow for any type of cuisine with ingredients easy to find.\"),\n",
    "    (\"human\", \"I want to cook a {cuisine} food. Give me a simple recipe and ingredients.\")\n",
    "])\n",
    "\n",
    "chef_chain = chef_prompt | chat \n",
    "\n",
    "veg_chef_promt = ChatPromptTemplate.from_messages([\n",
    "    (\"system\", \"You are a vegetarian chef specialized on making traditional recipes vegetarian. You find alternative recipes. You don't radically modify the recipe. If there is no alternative for a food or ingredient, just say you don't know how to replace it.\"),\n",
    "    (\"human\", \"{recipe}\")\n",
    "])\n",
    "\n",
    "veg_chain = veg_chef_promt | chat \n",
    "\n",
    "final_chain = {\"recipe\": chef_chain} | veg_chain\n",
    "\n",
    "final_chain.invoke({\n",
    "    \"cuisine\": \"Indian\"\n",
    "})\n",
    " "
   ]
  }
 ],
 "metadata": {
  "kernelspec": {
   "display_name": "Python 3",
   "language": "python",
   "name": "python3"
  },
  "language_info": {
   "codemirror_mode": {
    "name": "ipython",
    "version": 3
   },
   "file_extension": ".py",
   "mimetype": "text/x-python",
   "name": "python",
   "nbconvert_exporter": "python",
   "pygments_lexer": "ipython3",
   "version": "3.9.0"
  }
 },
 "nbformat": 4,
 "nbformat_minor": 2
}
